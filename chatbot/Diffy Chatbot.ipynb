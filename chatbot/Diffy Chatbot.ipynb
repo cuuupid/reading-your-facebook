{
 "cells": [
  {
   "cell_type": "code",
   "execution_count": null,
   "metadata": {
    "collapsed": true
   },
   "outputs": [],
   "source": [
    "import json"
   ]
  },
  {
   "cell_type": "code",
   "execution_count": null,
   "metadata": {
    "collapsed": true
   },
   "outputs": [],
   "source": [
    "msgs = json.load(open('message.json'))"
   ]
  },
  {
   "cell_type": "code",
   "execution_count": null,
   "metadata": {},
   "outputs": [],
   "source": [
    "msgs.keys()"
   ]
  },
  {
   "cell_type": "code",
   "execution_count": null,
   "metadata": {},
   "outputs": [],
   "source": [
    "type(msgs['messages'])"
   ]
  },
  {
   "cell_type": "code",
   "execution_count": null,
   "metadata": {},
   "outputs": [],
   "source": [
    "len(msgs['messages'])"
   ]
  },
  {
   "cell_type": "code",
   "execution_count": null,
   "metadata": {
    "collapsed": true
   },
   "outputs": [],
   "source": [
    "message_pairs = []\n",
    "TARGET = 'x' # person's name\n",
    "def assign(texts):\n",
    "    they_said = []\n",
    "    i_said = []\n",
    "    prev = texts[0]['sender_name']\n",
    "    for text in texts:\n",
    "        sender = text['sender_name']\n",
    "        if sender != prev and they_said and pri_said:\n",
    "            message_pairs.append(('\\n'.join(i_said), '\\n'.join(they_said)))\n",
    "            they_said = []\n",
    "            i_said = []\n",
    "        i_said.append(text['content']) if TARGET in sender else they_said.append(text['content'])\n",
    "        prev = sender"
   ]
  },
  {
   "cell_type": "code",
   "execution_count": null,
   "metadata": {},
   "outputs": [],
   "source": [
    "texts = [_ for _ in msgs['messages'] if _['type'] == 'Generic' and 'content' in _][::-1]\n",
    "len(texts)"
   ]
  },
  {
   "cell_type": "code",
   "execution_count": null,
   "metadata": {},
   "outputs": [],
   "source": [
    "assign(texts)\n",
    "len(message_pairs)"
   ]
  },
  {
   "cell_type": "code",
   "execution_count": null,
   "metadata": {},
   "outputs": [],
   "source": [
    "message_pairs[2:10]"
   ]
  },
  {
   "cell_type": "code",
   "execution_count": null,
   "metadata": {},
   "outputs": [],
   "source": [
    "from difflib import SequenceMatcher\n",
    "similar = lambda a, b: SequenceMatcher(None, a, b).ratio()\n",
    "similar('hows it going', 'hey hows it it going')"
   ]
  },
  {
   "cell_type": "code",
   "execution_count": null,
   "metadata": {},
   "outputs": [],
   "source": [
    "def search(m):\n",
    "    MAX = 0\n",
    "    reply = None\n",
    "    for X, Y in message_pairs:\n",
    "        score = similar(m, X)\n",
    "        if score > MAX:\n",
    "            MAX = score\n",
    "            reply = Y\n",
    "    return reply\n",
    "\n",
    "def search_all(m, thresh=0.97):\n",
    "    for X, Y in message_pairs:\n",
    "        if similar(m, X) > thresh: yield (X,Y)\n",
    "            \n",
    "%timeit search('hows it going')"
   ]
  },
  {
   "cell_type": "markdown",
   "metadata": {},
   "source": [
    "1.62 seconds isn't that bad :) lets try a chat interface:"
   ]
  },
  {
   "cell_type": "code",
   "execution_count": null,
   "metadata": {},
   "outputs": [],
   "source": [
    "while True:\n",
    "    msg = input('> ')\n",
    "    if msg == 'STOP': break\n",
    "    else: print(search(msg))"
   ]
  },
  {
   "cell_type": "code",
   "execution_count": null,
   "metadata": {},
   "outputs": [],
   "source": []
  },
  {
   "cell_type": "code",
   "execution_count": null,
   "metadata": {},
   "outputs": [],
   "source": []
  },
  {
   "cell_type": "code",
   "execution_count": null,
   "metadata": {
    "collapsed": true
   },
   "outputs": [],
   "source": []
  }
 ],
 "metadata": {
  "kernelspec": {
   "display_name": "Python 3",
   "language": "python",
   "name": "python3"
  },
  "language_info": {
   "codemirror_mode": {
    "name": "ipython",
    "version": 3
   },
   "file_extension": ".py",
   "mimetype": "text/x-python",
   "name": "python",
   "nbconvert_exporter": "python",
   "pygments_lexer": "ipython3",
   "version": "3.6.3"
  }
 },
 "nbformat": 4,
 "nbformat_minor": 2
}
