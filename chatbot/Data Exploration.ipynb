{
 "cells": [
  {
   "cell_type": "code",
   "execution_count": null,
   "metadata": {},
   "outputs": [],
   "source": [
    "import json\n",
    "import os\n",
    "os.listdir('./data')\n",
    "\n",
    "MY_NAME = 'Priansh Shah'"
   ]
  },
  {
   "cell_type": "code",
   "execution_count": null,
   "metadata": {
    "collapsed": true
   },
   "outputs": [],
   "source": [
    "PERSON = '' # replace with the name of the file for the person"
   ]
  },
  {
   "cell_type": "code",
   "execution_count": null,
   "metadata": {
    "collapsed": true
   },
   "outputs": [],
   "source": [
    "data = json.load(open(f'./data/{PERSON}.json'))"
   ]
  },
  {
   "cell_type": "code",
   "execution_count": null,
   "metadata": {
    "collapsed": true
   },
   "outputs": [],
   "source": [
    "messages = data['messages']"
   ]
  },
  {
   "cell_type": "code",
   "execution_count": null,
   "metadata": {},
   "outputs": [],
   "source": [
    "messages[:2]"
   ]
  },
  {
   "cell_type": "code",
   "execution_count": null,
   "metadata": {},
   "outputs": [],
   "source": [
    "them = []\n",
    "me = []\n",
    "# We don't currently process stickers, images, game updates, etc. messages without a \" content \" key\n",
    "for message in [m for m in messages if m['type'] == 'Generic' and 'content' in m]:\n",
    "    if message['sender_name'] == MY_NAME: me.append(message)\n",
    "    else: them.append(message)\n",
    "print(f'Message Ratio: {len(them)}:{len(me)} ({len(them)/len(me)})')"
   ]
  },
  {
   "cell_type": "code",
   "execution_count": null,
   "metadata": {},
   "outputs": [],
   "source": [
    "def count_occurrences(phrase, msgs):\n",
    "    return len([m for m in msgs if phrase in m['content']])\n",
    "\n",
    "count_occurrences('eb', them)"
   ]
  },
  {
   "cell_type": "code",
   "execution_count": null,
   "metadata": {},
   "outputs": [],
   "source": [
    "def count_occurrences_many(phrases, msgs):\n",
    "    return sum([count_occurrences(phrase, msgs) for phrase in phrases])\n",
    "\n",
    "count_occurrences_many(('lol', 'lmao'), them)"
   ]
  },
  {
   "cell_type": "code",
   "execution_count": null,
   "metadata": {
    "collapsed": true
   },
   "outputs": [],
   "source": []
  }
 ],
 "metadata": {
  "kernelspec": {
   "display_name": "Python 3",
   "language": "python",
   "name": "python3"
  },
  "language_info": {
   "codemirror_mode": {
    "name": "ipython",
    "version": 3
   },
   "file_extension": ".py",
   "mimetype": "text/x-python",
   "name": "python",
   "nbconvert_exporter": "python",
   "pygments_lexer": "ipython3",
   "version": "3.6.3"
  }
 },
 "nbformat": 4,
 "nbformat_minor": 2
}
